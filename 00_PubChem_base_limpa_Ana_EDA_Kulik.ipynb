{
  "cells": [
    {
      "cell_type": "markdown",
      "metadata": {
        "id": "view-in-github",
        "colab_type": "text"
      },
      "source": [
        "<a href=\"https://colab.research.google.com/github/raissalohanna/DataScience-Projects/blob/main/00_PubChem_base_limpa_Ana_EDA_Kulik.ipynb\" target=\"_parent\"><img src=\"https://colab.research.google.com/assets/colab-badge.svg\" alt=\"Open In Colab\"/></a>"
      ]
    },
    {
      "cell_type": "markdown",
      "metadata": {
        "id": "nd78NE_XYJZ9"
      },
      "source": [
        "# PubChem: 'base suja' test"
      ]
    },
    {
      "cell_type": "markdown",
      "metadata": {
        "id": "PztswGBvYJaB"
      },
      "source": [
        "**Problem class:** Regression\n",
        "\n",
        "**Objective:** Inspect the cleaned dataset and apply the Kulik's regression"
      ]
    },
    {
      "cell_type": "markdown",
      "metadata": {
        "id": "x3XGNmXeYJaC"
      },
      "source": [
        "## Importing libraries and configuration"
      ]
    },
    {
      "cell_type": "code",
      "execution_count": 1,
      "metadata": {
        "id": "IqLbdNfdYJaC",
        "colab": {
          "base_uri": "https://localhost:8080/"
        },
        "outputId": "53dfae8a-c728-47c2-a29e-8bda2f34bda1"
      },
      "outputs": [
        {
          "output_type": "stream",
          "name": "stdout",
          "text": [
            "Looking in indexes: https://pypi.org/simple, https://us-python.pkg.dev/colab-wheels/public/simple/\n",
            "Requirement already satisfied: rdkit in /usr/local/lib/python3.8/dist-packages (2022.9.5)\n",
            "Requirement already satisfied: Pillow in /usr/local/lib/python3.8/dist-packages (from rdkit) (8.4.0)\n",
            "Requirement already satisfied: numpy in /usr/local/lib/python3.8/dist-packages (from rdkit) (1.22.4)\n"
          ]
        }
      ],
      "source": [
        "!pip install rdkit"
      ]
    },
    {
      "cell_type": "code",
      "execution_count": 2,
      "metadata": {
        "id": "2D3NhTaHYJaD"
      },
      "outputs": [],
      "source": [
        "import numpy as np\n",
        "import pandas as pd\n",
        "import seaborn as sns\n",
        "from rdkit import Chem\n",
        "import matplotlib.pyplot as plt"
      ]
    },
    {
      "cell_type": "code",
      "execution_count": 3,
      "metadata": {
        "id": "XgelXw2aYJaD"
      },
      "outputs": [],
      "source": [
        "from tqdm import tqdm"
      ]
    },
    {
      "cell_type": "code",
      "execution_count": 4,
      "metadata": {
        "id": "XMJO9T9fYJaE"
      },
      "outputs": [],
      "source": [
        "pd.set_option('display.max_columns', None)"
      ]
    },
    {
      "cell_type": "code",
      "execution_count": 5,
      "metadata": {
        "id": "JL5h6UduYJaE"
      },
      "outputs": [],
      "source": [
        "sns.set_theme(style=\"darkgrid\", palette=\"husl\", rc={\"figure.figsize\":(10, 5)})"
      ]
    },
    {
      "cell_type": "code",
      "source": [
        "from google.colab import drive\n",
        "drive.mount('/content/drive')"
      ],
      "metadata": {
        "id": "k_F0-Vt1YUQi",
        "colab": {
          "base_uri": "https://localhost:8080/"
        },
        "outputId": "c587d057-cdbc-4514-e332-56be7908492f"
      },
      "execution_count": 6,
      "outputs": [
        {
          "output_type": "stream",
          "name": "stdout",
          "text": [
            "Drive already mounted at /content/drive; to attempt to forcibly remount, call drive.mount(\"/content/drive\", force_remount=True).\n"
          ]
        }
      ]
    },
    {
      "cell_type": "markdown",
      "metadata": {
        "id": "k8c1ph9UYJaF"
      },
      "source": [
        "## Importing the dataset"
      ]
    },
    {
      "cell_type": "code",
      "execution_count": 7,
      "metadata": {
        "id": "FQOVpzckYJaG"
      },
      "outputs": [],
      "source": [
        "df_nonUV = pd.read_csv(\"/content/drive/MyDrive/Colab Notebooks/Doutorado/data_output.csv\")"
      ]
    },
    {
      "cell_type": "code",
      "execution_count": 8,
      "metadata": {
        "id": "Ilqx_3r9YJaG"
      },
      "outputs": [],
      "source": [
        "df_UV = pd.read_csv(\"/content/drive/MyDrive/Colab Notebooks/Doutorado/data_output_uvvis.csv\")"
      ]
    },
    {
      "cell_type": "markdown",
      "metadata": {
        "id": "kMiiLk8KYJaH"
      },
      "source": [
        "### Non-UV data"
      ]
    },
    {
      "cell_type": "code",
      "execution_count": 9,
      "metadata": {
        "id": "N_8ZIh_jYJaH",
        "colab": {
          "base_uri": "https://localhost:8080/",
          "height": 322
        },
        "outputId": "dd35c72c-b3de-407a-f948-e386fabc8911"
      },
      "outputs": [
        {
          "output_type": "execute_result",
          "data": {
            "text/plain": [
              "   Br count  Cl count  F count  N count  O count  P count  S count  \\\n",
              "0         0         0        0        1        2        0        0   \n",
              "1         0         1        0        1        2        0        0   \n",
              "2         0         1        0        1        2        0        0   \n",
              "3         0         0        0        1        2        0        0   \n",
              "4         0         0        0        1        2        0        0   \n",
              "\n",
              "   aromatic heteroatom count  aromatic ring count  aromatic total atom count  \\\n",
              "0                        0.0                  2.0                       10.0   \n",
              "1                        0.0                  1.0                        6.0   \n",
              "2                        0.0                  2.0                        6.0   \n",
              "3                        0.0                  1.0                        6.0   \n",
              "4                        0.0                  1.0                        6.0   \n",
              "\n",
              "   atom count                   canonical smiles       cid  \\\n",
              "0          29     CC(C(=O)N)OC1=CC=CC2=CC=CC=C21  17650441   \n",
              "1          26          CC(C(=O)NC)OC1=CC=CC=C1Cl  17650661   \n",
              "2          30      CC(C(=O)NC1CC1)OC2=CC=CC=C2Cl  17650712   \n",
              "3          32      CC1=CC(=C(C=C1)C)OC(C)C(=O)NC  17650795   \n",
              "4          38  CC1=CC(=C(C=C1)C)OC(C)C(=O)NC(C)C  17650797   \n",
              "\n",
              "   excitations in visible  fst energy  fst energy oscillator       gap  \\\n",
              "0                       0    4.210240               0.095417  4.625935   \n",
              "1                       0    4.962773               0.027205  5.717112   \n",
              "2                       0    4.969988               0.030048  5.706227   \n",
              "3                       0    5.003490               0.025696  5.804188   \n",
              "4                       0    4.935433               0.031251  5.700785   \n",
              "\n",
              "   heavy atom count      homo  homo orbital      lumo  \\\n",
              "0                16 -6.098071            57 -1.472136   \n",
              "1                14 -6.685837            56 -0.968725   \n",
              "2                16 -6.650463            63 -0.944235   \n",
              "3                15 -6.315762            56 -0.511574   \n",
              "4                17 -6.010995            64 -0.310210   \n",
              "\n",
              "   max oscillator strength  max oscillator strength energy  \\\n",
              "0                 0.429545                        5.664795   \n",
              "1                 0.070237                        5.553358   \n",
              "2                 0.073594                        5.594168   \n",
              "3                 0.051853                        5.620916   \n",
              "4                 0.070977                        5.541557   \n",
              "\n",
              "   max oscillator strength position  molecular weight  total heteroatoms count  \n",
              "0                                 8         215.24782                        3  \n",
              "1                                 3         213.66078                        4  \n",
              "2                                 5         239.69806                        4  \n",
              "3                                 4         207.26888                        3  \n",
              "4                                 4         235.32204                        3  "
            ],
            "text/html": [
              "\n",
              "  <div id=\"df-3d401a09-bffc-46dd-b41f-edbccf9f2f48\">\n",
              "    <div class=\"colab-df-container\">\n",
              "      <div>\n",
              "<style scoped>\n",
              "    .dataframe tbody tr th:only-of-type {\n",
              "        vertical-align: middle;\n",
              "    }\n",
              "\n",
              "    .dataframe tbody tr th {\n",
              "        vertical-align: top;\n",
              "    }\n",
              "\n",
              "    .dataframe thead th {\n",
              "        text-align: right;\n",
              "    }\n",
              "</style>\n",
              "<table border=\"1\" class=\"dataframe\">\n",
              "  <thead>\n",
              "    <tr style=\"text-align: right;\">\n",
              "      <th></th>\n",
              "      <th>Br count</th>\n",
              "      <th>Cl count</th>\n",
              "      <th>F count</th>\n",
              "      <th>N count</th>\n",
              "      <th>O count</th>\n",
              "      <th>P count</th>\n",
              "      <th>S count</th>\n",
              "      <th>aromatic heteroatom count</th>\n",
              "      <th>aromatic ring count</th>\n",
              "      <th>aromatic total atom count</th>\n",
              "      <th>atom count</th>\n",
              "      <th>canonical smiles</th>\n",
              "      <th>cid</th>\n",
              "      <th>excitations in visible</th>\n",
              "      <th>fst energy</th>\n",
              "      <th>fst energy oscillator</th>\n",
              "      <th>gap</th>\n",
              "      <th>heavy atom count</th>\n",
              "      <th>homo</th>\n",
              "      <th>homo orbital</th>\n",
              "      <th>lumo</th>\n",
              "      <th>max oscillator strength</th>\n",
              "      <th>max oscillator strength energy</th>\n",
              "      <th>max oscillator strength position</th>\n",
              "      <th>molecular weight</th>\n",
              "      <th>total heteroatoms count</th>\n",
              "    </tr>\n",
              "  </thead>\n",
              "  <tbody>\n",
              "    <tr>\n",
              "      <th>0</th>\n",
              "      <td>0</td>\n",
              "      <td>0</td>\n",
              "      <td>0</td>\n",
              "      <td>1</td>\n",
              "      <td>2</td>\n",
              "      <td>0</td>\n",
              "      <td>0</td>\n",
              "      <td>0.0</td>\n",
              "      <td>2.0</td>\n",
              "      <td>10.0</td>\n",
              "      <td>29</td>\n",
              "      <td>CC(C(=O)N)OC1=CC=CC2=CC=CC=C21</td>\n",
              "      <td>17650441</td>\n",
              "      <td>0</td>\n",
              "      <td>4.210240</td>\n",
              "      <td>0.095417</td>\n",
              "      <td>4.625935</td>\n",
              "      <td>16</td>\n",
              "      <td>-6.098071</td>\n",
              "      <td>57</td>\n",
              "      <td>-1.472136</td>\n",
              "      <td>0.429545</td>\n",
              "      <td>5.664795</td>\n",
              "      <td>8</td>\n",
              "      <td>215.24782</td>\n",
              "      <td>3</td>\n",
              "    </tr>\n",
              "    <tr>\n",
              "      <th>1</th>\n",
              "      <td>0</td>\n",
              "      <td>1</td>\n",
              "      <td>0</td>\n",
              "      <td>1</td>\n",
              "      <td>2</td>\n",
              "      <td>0</td>\n",
              "      <td>0</td>\n",
              "      <td>0.0</td>\n",
              "      <td>1.0</td>\n",
              "      <td>6.0</td>\n",
              "      <td>26</td>\n",
              "      <td>CC(C(=O)NC)OC1=CC=CC=C1Cl</td>\n",
              "      <td>17650661</td>\n",
              "      <td>0</td>\n",
              "      <td>4.962773</td>\n",
              "      <td>0.027205</td>\n",
              "      <td>5.717112</td>\n",
              "      <td>14</td>\n",
              "      <td>-6.685837</td>\n",
              "      <td>56</td>\n",
              "      <td>-0.968725</td>\n",
              "      <td>0.070237</td>\n",
              "      <td>5.553358</td>\n",
              "      <td>3</td>\n",
              "      <td>213.66078</td>\n",
              "      <td>4</td>\n",
              "    </tr>\n",
              "    <tr>\n",
              "      <th>2</th>\n",
              "      <td>0</td>\n",
              "      <td>1</td>\n",
              "      <td>0</td>\n",
              "      <td>1</td>\n",
              "      <td>2</td>\n",
              "      <td>0</td>\n",
              "      <td>0</td>\n",
              "      <td>0.0</td>\n",
              "      <td>2.0</td>\n",
              "      <td>6.0</td>\n",
              "      <td>30</td>\n",
              "      <td>CC(C(=O)NC1CC1)OC2=CC=CC=C2Cl</td>\n",
              "      <td>17650712</td>\n",
              "      <td>0</td>\n",
              "      <td>4.969988</td>\n",
              "      <td>0.030048</td>\n",
              "      <td>5.706227</td>\n",
              "      <td>16</td>\n",
              "      <td>-6.650463</td>\n",
              "      <td>63</td>\n",
              "      <td>-0.944235</td>\n",
              "      <td>0.073594</td>\n",
              "      <td>5.594168</td>\n",
              "      <td>5</td>\n",
              "      <td>239.69806</td>\n",
              "      <td>4</td>\n",
              "    </tr>\n",
              "    <tr>\n",
              "      <th>3</th>\n",
              "      <td>0</td>\n",
              "      <td>0</td>\n",
              "      <td>0</td>\n",
              "      <td>1</td>\n",
              "      <td>2</td>\n",
              "      <td>0</td>\n",
              "      <td>0</td>\n",
              "      <td>0.0</td>\n",
              "      <td>1.0</td>\n",
              "      <td>6.0</td>\n",
              "      <td>32</td>\n",
              "      <td>CC1=CC(=C(C=C1)C)OC(C)C(=O)NC</td>\n",
              "      <td>17650795</td>\n",
              "      <td>0</td>\n",
              "      <td>5.003490</td>\n",
              "      <td>0.025696</td>\n",
              "      <td>5.804188</td>\n",
              "      <td>15</td>\n",
              "      <td>-6.315762</td>\n",
              "      <td>56</td>\n",
              "      <td>-0.511574</td>\n",
              "      <td>0.051853</td>\n",
              "      <td>5.620916</td>\n",
              "      <td>4</td>\n",
              "      <td>207.26888</td>\n",
              "      <td>3</td>\n",
              "    </tr>\n",
              "    <tr>\n",
              "      <th>4</th>\n",
              "      <td>0</td>\n",
              "      <td>0</td>\n",
              "      <td>0</td>\n",
              "      <td>1</td>\n",
              "      <td>2</td>\n",
              "      <td>0</td>\n",
              "      <td>0</td>\n",
              "      <td>0.0</td>\n",
              "      <td>1.0</td>\n",
              "      <td>6.0</td>\n",
              "      <td>38</td>\n",
              "      <td>CC1=CC(=C(C=C1)C)OC(C)C(=O)NC(C)C</td>\n",
              "      <td>17650797</td>\n",
              "      <td>0</td>\n",
              "      <td>4.935433</td>\n",
              "      <td>0.031251</td>\n",
              "      <td>5.700785</td>\n",
              "      <td>17</td>\n",
              "      <td>-6.010995</td>\n",
              "      <td>64</td>\n",
              "      <td>-0.310210</td>\n",
              "      <td>0.070977</td>\n",
              "      <td>5.541557</td>\n",
              "      <td>4</td>\n",
              "      <td>235.32204</td>\n",
              "      <td>3</td>\n",
              "    </tr>\n",
              "  </tbody>\n",
              "</table>\n",
              "</div>\n",
              "      <button class=\"colab-df-convert\" onclick=\"convertToInteractive('df-3d401a09-bffc-46dd-b41f-edbccf9f2f48')\"\n",
              "              title=\"Convert this dataframe to an interactive table.\"\n",
              "              style=\"display:none;\">\n",
              "        \n",
              "  <svg xmlns=\"http://www.w3.org/2000/svg\" height=\"24px\"viewBox=\"0 0 24 24\"\n",
              "       width=\"24px\">\n",
              "    <path d=\"M0 0h24v24H0V0z\" fill=\"none\"/>\n",
              "    <path d=\"M18.56 5.44l.94 2.06.94-2.06 2.06-.94-2.06-.94-.94-2.06-.94 2.06-2.06.94zm-11 1L8.5 8.5l.94-2.06 2.06-.94-2.06-.94L8.5 2.5l-.94 2.06-2.06.94zm10 10l.94 2.06.94-2.06 2.06-.94-2.06-.94-.94-2.06-.94 2.06-2.06.94z\"/><path d=\"M17.41 7.96l-1.37-1.37c-.4-.4-.92-.59-1.43-.59-.52 0-1.04.2-1.43.59L10.3 9.45l-7.72 7.72c-.78.78-.78 2.05 0 2.83L4 21.41c.39.39.9.59 1.41.59.51 0 1.02-.2 1.41-.59l7.78-7.78 2.81-2.81c.8-.78.8-2.07 0-2.86zM5.41 20L4 18.59l7.72-7.72 1.47 1.35L5.41 20z\"/>\n",
              "  </svg>\n",
              "      </button>\n",
              "      \n",
              "  <style>\n",
              "    .colab-df-container {\n",
              "      display:flex;\n",
              "      flex-wrap:wrap;\n",
              "      gap: 12px;\n",
              "    }\n",
              "\n",
              "    .colab-df-convert {\n",
              "      background-color: #E8F0FE;\n",
              "      border: none;\n",
              "      border-radius: 50%;\n",
              "      cursor: pointer;\n",
              "      display: none;\n",
              "      fill: #1967D2;\n",
              "      height: 32px;\n",
              "      padding: 0 0 0 0;\n",
              "      width: 32px;\n",
              "    }\n",
              "\n",
              "    .colab-df-convert:hover {\n",
              "      background-color: #E2EBFA;\n",
              "      box-shadow: 0px 1px 2px rgba(60, 64, 67, 0.3), 0px 1px 3px 1px rgba(60, 64, 67, 0.15);\n",
              "      fill: #174EA6;\n",
              "    }\n",
              "\n",
              "    [theme=dark] .colab-df-convert {\n",
              "      background-color: #3B4455;\n",
              "      fill: #D2E3FC;\n",
              "    }\n",
              "\n",
              "    [theme=dark] .colab-df-convert:hover {\n",
              "      background-color: #434B5C;\n",
              "      box-shadow: 0px 1px 3px 1px rgba(0, 0, 0, 0.15);\n",
              "      filter: drop-shadow(0px 1px 2px rgba(0, 0, 0, 0.3));\n",
              "      fill: #FFFFFF;\n",
              "    }\n",
              "  </style>\n",
              "\n",
              "      <script>\n",
              "        const buttonEl =\n",
              "          document.querySelector('#df-3d401a09-bffc-46dd-b41f-edbccf9f2f48 button.colab-df-convert');\n",
              "        buttonEl.style.display =\n",
              "          google.colab.kernel.accessAllowed ? 'block' : 'none';\n",
              "\n",
              "        async function convertToInteractive(key) {\n",
              "          const element = document.querySelector('#df-3d401a09-bffc-46dd-b41f-edbccf9f2f48');\n",
              "          const dataTable =\n",
              "            await google.colab.kernel.invokeFunction('convertToInteractive',\n",
              "                                                     [key], {});\n",
              "          if (!dataTable) return;\n",
              "\n",
              "          const docLinkHtml = 'Like what you see? Visit the ' +\n",
              "            '<a target=\"_blank\" href=https://colab.research.google.com/notebooks/data_table.ipynb>data table notebook</a>'\n",
              "            + ' to learn more about interactive tables.';\n",
              "          element.innerHTML = '';\n",
              "          dataTable['output_type'] = 'display_data';\n",
              "          await google.colab.output.renderOutput(dataTable, element);\n",
              "          const docLink = document.createElement('div');\n",
              "          docLink.innerHTML = docLinkHtml;\n",
              "          element.appendChild(docLink);\n",
              "        }\n",
              "      </script>\n",
              "    </div>\n",
              "  </div>\n",
              "  "
            ]
          },
          "metadata": {},
          "execution_count": 9
        }
      ],
      "source": [
        "df_nonUV.head()"
      ]
    },
    {
      "cell_type": "code",
      "execution_count": 10,
      "metadata": {
        "id": "UQOb89xjYJaH",
        "colab": {
          "base_uri": "https://localhost:8080/"
        },
        "outputId": "fae638d2-ae5b-43b7-d70c-0c00dabec762"
      },
      "outputs": [
        {
          "output_type": "execute_result",
          "data": {
            "text/plain": [
              "(3369261, 26)"
            ]
          },
          "metadata": {},
          "execution_count": 10
        }
      ],
      "source": [
        "df_nonUV.shape"
      ]
    },
    {
      "cell_type": "code",
      "execution_count": 11,
      "metadata": {
        "id": "nMIVstrNYJaI"
      },
      "outputs": [],
      "source": [
        "df_nonUV['corante']=0"
      ]
    },
    {
      "cell_type": "code",
      "execution_count": 12,
      "metadata": {
        "id": "d3BcvbhMYJaI",
        "colab": {
          "base_uri": "https://localhost:8080/"
        },
        "outputId": "69669f96-cd8f-4326-ec7f-37ffcff7def7"
      },
      "outputs": [
        {
          "output_type": "execute_result",
          "data": {
            "text/plain": [
              "Index(['Br count', 'Cl count', 'F count', 'N count', 'O count', 'P count',\n",
              "       'S count', 'aromatic heteroatom count', 'aromatic ring count',\n",
              "       'aromatic total atom count', 'atom count', 'canonical smiles', 'cid',\n",
              "       'excitations in visible', 'fst energy', 'fst energy oscillator', 'gap',\n",
              "       'heavy atom count', 'homo', 'homo orbital', 'lumo',\n",
              "       'max oscillator strength', 'max oscillator strength energy',\n",
              "       'max oscillator strength position', 'molecular weight',\n",
              "       'total heteroatoms count', 'corante'],\n",
              "      dtype='object')"
            ]
          },
          "metadata": {},
          "execution_count": 12
        }
      ],
      "source": [
        "df_nonUV.columns"
      ]
    },
    {
      "cell_type": "markdown",
      "metadata": {
        "id": "1VnNqOtcYJaI"
      },
      "source": [
        "### UV data"
      ]
    },
    {
      "cell_type": "code",
      "execution_count": 13,
      "metadata": {
        "id": "6gToV40XYJaI",
        "colab": {
          "base_uri": "https://localhost:8080/",
          "height": 374
        },
        "outputId": "6f0483b5-9bbb-4baa-cd9c-860b80d4d8cc"
      },
      "outputs": [
        {
          "output_type": "execute_result",
          "data": {
            "text/plain": [
              "        cid                     canonical smiles  heavy atom count  \\\n",
              "0  17653206        C1=CC2=NSN=C2C(=C1)C(C(=O)O)N                14   \n",
              "1  17653227     C1=CC2=NO[N+](=C2C3=NSN=C31)[O-]                13   \n",
              "2  17653228  C1=CC2=NSN=C2C(=C1NCCO)[N+](=O)[O-]                16   \n",
              "3  17653229    CNC1=C(C2=NSN=C2C=C1)[N+](=O)[O-]                14   \n",
              "4  17653247           CCC(=O)ON=C(C1=NOC(=N1)C)N                14   \n",
              "\n",
              "   molecular weight  atom count  homo orbital      homo      lumo       gap  \\\n",
              "0         209.22508          21            54 -7.077681 -3.156521  3.921161   \n",
              "1         194.17068          15            49 -7.017816 -3.017743  4.000074   \n",
              "2         240.23912          24            62 -6.710328 -3.189174  3.521153   \n",
              "3         210.21314          20            54 -6.574271 -3.072165  3.502105   \n",
              "4         198.17930          24            52 -6.606924 -1.929287  4.677637   \n",
              "\n",
              "   fst energy  fst energy oscillator  excitations in visible  \\\n",
              "0    3.404950               0.054303                       2   \n",
              "1    3.594705               0.113922                       2   \n",
              "2    3.245506               0.178657                       4   \n",
              "3    3.229357               0.171813                       4   \n",
              "4    4.161250               0.090690                       1   \n",
              "\n",
              "   max oscillator strength  max oscillator strength energy  \\\n",
              "0                 0.054303                        3.404950   \n",
              "1                 0.113922                        3.594705   \n",
              "2                 0.178657                        3.245506   \n",
              "3                 0.171813                        3.229357   \n",
              "4                 0.090690                        4.161250   \n",
              "\n",
              "   max oscillator strength position  N count  O count  F count  P count  \\\n",
              "0                                 1        3        2        0        0   \n",
              "1                                 1        4        2        0        0   \n",
              "2                                 1        4        3        0        0   \n",
              "3                                 1        4        2        0        0   \n",
              "4                                 1        4        3        0        0   \n",
              "\n",
              "   S count  Cl count  Br count  total heteroatoms count  aromatic ring count  \\\n",
              "0        1         0         0                        6                  2.0   \n",
              "1        1         0         0                        7                  3.0   \n",
              "2        1         0         0                        8                  2.0   \n",
              "3        1         0         0                        7                  2.0   \n",
              "4        0         0         0                        7                  1.0   \n",
              "\n",
              "   aromatic total atom count  aromatic heteroatom count  \n",
              "0                        9.0                        3.0  \n",
              "1                       12.0                        6.0  \n",
              "2                        9.0                        3.0  \n",
              "3                        9.0                        3.0  \n",
              "4                        5.0                        3.0  "
            ],
            "text/html": [
              "\n",
              "  <div id=\"df-78ef712c-ef54-4c62-adfa-ebc04c7e7633\">\n",
              "    <div class=\"colab-df-container\">\n",
              "      <div>\n",
              "<style scoped>\n",
              "    .dataframe tbody tr th:only-of-type {\n",
              "        vertical-align: middle;\n",
              "    }\n",
              "\n",
              "    .dataframe tbody tr th {\n",
              "        vertical-align: top;\n",
              "    }\n",
              "\n",
              "    .dataframe thead th {\n",
              "        text-align: right;\n",
              "    }\n",
              "</style>\n",
              "<table border=\"1\" class=\"dataframe\">\n",
              "  <thead>\n",
              "    <tr style=\"text-align: right;\">\n",
              "      <th></th>\n",
              "      <th>cid</th>\n",
              "      <th>canonical smiles</th>\n",
              "      <th>heavy atom count</th>\n",
              "      <th>molecular weight</th>\n",
              "      <th>atom count</th>\n",
              "      <th>homo orbital</th>\n",
              "      <th>homo</th>\n",
              "      <th>lumo</th>\n",
              "      <th>gap</th>\n",
              "      <th>fst energy</th>\n",
              "      <th>fst energy oscillator</th>\n",
              "      <th>excitations in visible</th>\n",
              "      <th>max oscillator strength</th>\n",
              "      <th>max oscillator strength energy</th>\n",
              "      <th>max oscillator strength position</th>\n",
              "      <th>N count</th>\n",
              "      <th>O count</th>\n",
              "      <th>F count</th>\n",
              "      <th>P count</th>\n",
              "      <th>S count</th>\n",
              "      <th>Cl count</th>\n",
              "      <th>Br count</th>\n",
              "      <th>total heteroatoms count</th>\n",
              "      <th>aromatic ring count</th>\n",
              "      <th>aromatic total atom count</th>\n",
              "      <th>aromatic heteroatom count</th>\n",
              "    </tr>\n",
              "  </thead>\n",
              "  <tbody>\n",
              "    <tr>\n",
              "      <th>0</th>\n",
              "      <td>17653206</td>\n",
              "      <td>C1=CC2=NSN=C2C(=C1)C(C(=O)O)N</td>\n",
              "      <td>14</td>\n",
              "      <td>209.22508</td>\n",
              "      <td>21</td>\n",
              "      <td>54</td>\n",
              "      <td>-7.077681</td>\n",
              "      <td>-3.156521</td>\n",
              "      <td>3.921161</td>\n",
              "      <td>3.404950</td>\n",
              "      <td>0.054303</td>\n",
              "      <td>2</td>\n",
              "      <td>0.054303</td>\n",
              "      <td>3.404950</td>\n",
              "      <td>1</td>\n",
              "      <td>3</td>\n",
              "      <td>2</td>\n",
              "      <td>0</td>\n",
              "      <td>0</td>\n",
              "      <td>1</td>\n",
              "      <td>0</td>\n",
              "      <td>0</td>\n",
              "      <td>6</td>\n",
              "      <td>2.0</td>\n",
              "      <td>9.0</td>\n",
              "      <td>3.0</td>\n",
              "    </tr>\n",
              "    <tr>\n",
              "      <th>1</th>\n",
              "      <td>17653227</td>\n",
              "      <td>C1=CC2=NO[N+](=C2C3=NSN=C31)[O-]</td>\n",
              "      <td>13</td>\n",
              "      <td>194.17068</td>\n",
              "      <td>15</td>\n",
              "      <td>49</td>\n",
              "      <td>-7.017816</td>\n",
              "      <td>-3.017743</td>\n",
              "      <td>4.000074</td>\n",
              "      <td>3.594705</td>\n",
              "      <td>0.113922</td>\n",
              "      <td>2</td>\n",
              "      <td>0.113922</td>\n",
              "      <td>3.594705</td>\n",
              "      <td>1</td>\n",
              "      <td>4</td>\n",
              "      <td>2</td>\n",
              "      <td>0</td>\n",
              "      <td>0</td>\n",
              "      <td>1</td>\n",
              "      <td>0</td>\n",
              "      <td>0</td>\n",
              "      <td>7</td>\n",
              "      <td>3.0</td>\n",
              "      <td>12.0</td>\n",
              "      <td>6.0</td>\n",
              "    </tr>\n",
              "    <tr>\n",
              "      <th>2</th>\n",
              "      <td>17653228</td>\n",
              "      <td>C1=CC2=NSN=C2C(=C1NCCO)[N+](=O)[O-]</td>\n",
              "      <td>16</td>\n",
              "      <td>240.23912</td>\n",
              "      <td>24</td>\n",
              "      <td>62</td>\n",
              "      <td>-6.710328</td>\n",
              "      <td>-3.189174</td>\n",
              "      <td>3.521153</td>\n",
              "      <td>3.245506</td>\n",
              "      <td>0.178657</td>\n",
              "      <td>4</td>\n",
              "      <td>0.178657</td>\n",
              "      <td>3.245506</td>\n",
              "      <td>1</td>\n",
              "      <td>4</td>\n",
              "      <td>3</td>\n",
              "      <td>0</td>\n",
              "      <td>0</td>\n",
              "      <td>1</td>\n",
              "      <td>0</td>\n",
              "      <td>0</td>\n",
              "      <td>8</td>\n",
              "      <td>2.0</td>\n",
              "      <td>9.0</td>\n",
              "      <td>3.0</td>\n",
              "    </tr>\n",
              "    <tr>\n",
              "      <th>3</th>\n",
              "      <td>17653229</td>\n",
              "      <td>CNC1=C(C2=NSN=C2C=C1)[N+](=O)[O-]</td>\n",
              "      <td>14</td>\n",
              "      <td>210.21314</td>\n",
              "      <td>20</td>\n",
              "      <td>54</td>\n",
              "      <td>-6.574271</td>\n",
              "      <td>-3.072165</td>\n",
              "      <td>3.502105</td>\n",
              "      <td>3.229357</td>\n",
              "      <td>0.171813</td>\n",
              "      <td>4</td>\n",
              "      <td>0.171813</td>\n",
              "      <td>3.229357</td>\n",
              "      <td>1</td>\n",
              "      <td>4</td>\n",
              "      <td>2</td>\n",
              "      <td>0</td>\n",
              "      <td>0</td>\n",
              "      <td>1</td>\n",
              "      <td>0</td>\n",
              "      <td>0</td>\n",
              "      <td>7</td>\n",
              "      <td>2.0</td>\n",
              "      <td>9.0</td>\n",
              "      <td>3.0</td>\n",
              "    </tr>\n",
              "    <tr>\n",
              "      <th>4</th>\n",
              "      <td>17653247</td>\n",
              "      <td>CCC(=O)ON=C(C1=NOC(=N1)C)N</td>\n",
              "      <td>14</td>\n",
              "      <td>198.17930</td>\n",
              "      <td>24</td>\n",
              "      <td>52</td>\n",
              "      <td>-6.606924</td>\n",
              "      <td>-1.929287</td>\n",
              "      <td>4.677637</td>\n",
              "      <td>4.161250</td>\n",
              "      <td>0.090690</td>\n",
              "      <td>1</td>\n",
              "      <td>0.090690</td>\n",
              "      <td>4.161250</td>\n",
              "      <td>1</td>\n",
              "      <td>4</td>\n",
              "      <td>3</td>\n",
              "      <td>0</td>\n",
              "      <td>0</td>\n",
              "      <td>0</td>\n",
              "      <td>0</td>\n",
              "      <td>0</td>\n",
              "      <td>7</td>\n",
              "      <td>1.0</td>\n",
              "      <td>5.0</td>\n",
              "      <td>3.0</td>\n",
              "    </tr>\n",
              "  </tbody>\n",
              "</table>\n",
              "</div>\n",
              "      <button class=\"colab-df-convert\" onclick=\"convertToInteractive('df-78ef712c-ef54-4c62-adfa-ebc04c7e7633')\"\n",
              "              title=\"Convert this dataframe to an interactive table.\"\n",
              "              style=\"display:none;\">\n",
              "        \n",
              "  <svg xmlns=\"http://www.w3.org/2000/svg\" height=\"24px\"viewBox=\"0 0 24 24\"\n",
              "       width=\"24px\">\n",
              "    <path d=\"M0 0h24v24H0V0z\" fill=\"none\"/>\n",
              "    <path d=\"M18.56 5.44l.94 2.06.94-2.06 2.06-.94-2.06-.94-.94-2.06-.94 2.06-2.06.94zm-11 1L8.5 8.5l.94-2.06 2.06-.94-2.06-.94L8.5 2.5l-.94 2.06-2.06.94zm10 10l.94 2.06.94-2.06 2.06-.94-2.06-.94-.94-2.06-.94 2.06-2.06.94z\"/><path d=\"M17.41 7.96l-1.37-1.37c-.4-.4-.92-.59-1.43-.59-.52 0-1.04.2-1.43.59L10.3 9.45l-7.72 7.72c-.78.78-.78 2.05 0 2.83L4 21.41c.39.39.9.59 1.41.59.51 0 1.02-.2 1.41-.59l7.78-7.78 2.81-2.81c.8-.78.8-2.07 0-2.86zM5.41 20L4 18.59l7.72-7.72 1.47 1.35L5.41 20z\"/>\n",
              "  </svg>\n",
              "      </button>\n",
              "      \n",
              "  <style>\n",
              "    .colab-df-container {\n",
              "      display:flex;\n",
              "      flex-wrap:wrap;\n",
              "      gap: 12px;\n",
              "    }\n",
              "\n",
              "    .colab-df-convert {\n",
              "      background-color: #E8F0FE;\n",
              "      border: none;\n",
              "      border-radius: 50%;\n",
              "      cursor: pointer;\n",
              "      display: none;\n",
              "      fill: #1967D2;\n",
              "      height: 32px;\n",
              "      padding: 0 0 0 0;\n",
              "      width: 32px;\n",
              "    }\n",
              "\n",
              "    .colab-df-convert:hover {\n",
              "      background-color: #E2EBFA;\n",
              "      box-shadow: 0px 1px 2px rgba(60, 64, 67, 0.3), 0px 1px 3px 1px rgba(60, 64, 67, 0.15);\n",
              "      fill: #174EA6;\n",
              "    }\n",
              "\n",
              "    [theme=dark] .colab-df-convert {\n",
              "      background-color: #3B4455;\n",
              "      fill: #D2E3FC;\n",
              "    }\n",
              "\n",
              "    [theme=dark] .colab-df-convert:hover {\n",
              "      background-color: #434B5C;\n",
              "      box-shadow: 0px 1px 3px 1px rgba(0, 0, 0, 0.15);\n",
              "      filter: drop-shadow(0px 1px 2px rgba(0, 0, 0, 0.3));\n",
              "      fill: #FFFFFF;\n",
              "    }\n",
              "  </style>\n",
              "\n",
              "      <script>\n",
              "        const buttonEl =\n",
              "          document.querySelector('#df-78ef712c-ef54-4c62-adfa-ebc04c7e7633 button.colab-df-convert');\n",
              "        buttonEl.style.display =\n",
              "          google.colab.kernel.accessAllowed ? 'block' : 'none';\n",
              "\n",
              "        async function convertToInteractive(key) {\n",
              "          const element = document.querySelector('#df-78ef712c-ef54-4c62-adfa-ebc04c7e7633');\n",
              "          const dataTable =\n",
              "            await google.colab.kernel.invokeFunction('convertToInteractive',\n",
              "                                                     [key], {});\n",
              "          if (!dataTable) return;\n",
              "\n",
              "          const docLinkHtml = 'Like what you see? Visit the ' +\n",
              "            '<a target=\"_blank\" href=https://colab.research.google.com/notebooks/data_table.ipynb>data table notebook</a>'\n",
              "            + ' to learn more about interactive tables.';\n",
              "          element.innerHTML = '';\n",
              "          dataTable['output_type'] = 'display_data';\n",
              "          await google.colab.output.renderOutput(dataTable, element);\n",
              "          const docLink = document.createElement('div');\n",
              "          docLink.innerHTML = docLinkHtml;\n",
              "          element.appendChild(docLink);\n",
              "        }\n",
              "      </script>\n",
              "    </div>\n",
              "  </div>\n",
              "  "
            ]
          },
          "metadata": {},
          "execution_count": 13
        }
      ],
      "source": [
        "df_UV.head()"
      ]
    },
    {
      "cell_type": "code",
      "execution_count": 14,
      "metadata": {
        "id": "CUf65qJ1YJaI",
        "colab": {
          "base_uri": "https://localhost:8080/"
        },
        "outputId": "3510a04b-0265-4068-dbc4-01b657b3f4a0"
      },
      "outputs": [
        {
          "output_type": "execute_result",
          "data": {
            "text/plain": [
              "(1048465, 26)"
            ]
          },
          "metadata": {},
          "execution_count": 14
        }
      ],
      "source": [
        "df_UV.shape"
      ]
    },
    {
      "cell_type": "code",
      "execution_count": 15,
      "metadata": {
        "id": "c47X8ZBLYJaJ"
      },
      "outputs": [],
      "source": [
        "df_UV['corante']=1"
      ]
    },
    {
      "cell_type": "code",
      "execution_count": 16,
      "metadata": {
        "id": "brUjZUG6YJaJ",
        "colab": {
          "base_uri": "https://localhost:8080/"
        },
        "outputId": "4aabd184-62e7-41c7-aacf-f68b8e0f7836"
      },
      "outputs": [
        {
          "output_type": "execute_result",
          "data": {
            "text/plain": [
              "Index(['cid', 'canonical smiles', 'heavy atom count', 'molecular weight',\n",
              "       'atom count', 'homo orbital', 'homo', 'lumo', 'gap', 'fst energy',\n",
              "       'fst energy oscillator', 'excitations in visible',\n",
              "       'max oscillator strength', 'max oscillator strength energy',\n",
              "       'max oscillator strength position', 'N count', 'O count', 'F count',\n",
              "       'P count', 'S count', 'Cl count', 'Br count', 'total heteroatoms count',\n",
              "       'aromatic ring count', 'aromatic total atom count',\n",
              "       'aromatic heteroatom count', 'corante'],\n",
              "      dtype='object')"
            ]
          },
          "metadata": {},
          "execution_count": 16
        }
      ],
      "source": [
        "df_UV.columns"
      ]
    },
    {
      "cell_type": "markdown",
      "metadata": {
        "id": "La04ju8hYJaJ"
      },
      "source": [
        "Rearranging the columns of the non-UV according to the UV dataset, in order to concatenate both of them"
      ]
    },
    {
      "cell_type": "code",
      "execution_count": 17,
      "metadata": {
        "id": "8moDd1TvYJaJ"
      },
      "outputs": [],
      "source": [
        "df_nonUV = df_nonUV [['cid', 'canonical smiles', 'heavy atom count', 'molecular weight',\n",
        "       'atom count', 'homo orbital', 'homo', 'lumo', 'gap', 'fst energy',\n",
        "       'fst energy oscillator', 'excitations in visible',\n",
        "       'max oscillator strength', 'max oscillator strength energy',\n",
        "       'max oscillator strength position', 'N count', 'O count', 'F count',\n",
        "       'P count', 'S count', 'Cl count', 'Br count', 'total heteroatoms count',\n",
        "       'aromatic ring count', 'aromatic total atom count',\n",
        "       'aromatic heteroatom count', 'corante']]"
      ]
    },
    {
      "cell_type": "markdown",
      "metadata": {
        "id": "P4xRcMiOYJaJ"
      },
      "source": [
        "Concatenating the datasets:"
      ]
    },
    {
      "cell_type": "code",
      "execution_count": 18,
      "metadata": {
        "id": "hQM4vq5qYJaJ"
      },
      "outputs": [],
      "source": [
        "df_full = pd.concat([df_nonUV, df_UV], ignore_index=True)"
      ]
    },
    {
      "cell_type": "code",
      "execution_count": 19,
      "metadata": {
        "id": "iI8KnH60YJaK",
        "colab": {
          "base_uri": "https://localhost:8080/"
        },
        "outputId": "9be1a175-d3d5-420a-9441-9664e2779fa6"
      },
      "outputs": [
        {
          "output_type": "execute_result",
          "data": {
            "text/plain": [
              "(4417726, 27)"
            ]
          },
          "metadata": {},
          "execution_count": 19
        }
      ],
      "source": [
        "df_full.shape"
      ]
    },
    {
      "cell_type": "code",
      "execution_count": 20,
      "metadata": {
        "id": "a1Y94dxPYJaK",
        "colab": {
          "base_uri": "https://localhost:8080/",
          "height": 322
        },
        "outputId": "9ca267fe-7c95-468f-d3c6-5de3f0f60adb"
      },
      "outputs": [
        {
          "output_type": "execute_result",
          "data": {
            "text/plain": [
              "        cid                   canonical smiles  heavy atom count  \\\n",
              "0  17650441     CC(C(=O)N)OC1=CC=CC2=CC=CC=C21                16   \n",
              "1  17650661          CC(C(=O)NC)OC1=CC=CC=C1Cl                14   \n",
              "2  17650712      CC(C(=O)NC1CC1)OC2=CC=CC=C2Cl                16   \n",
              "3  17650795      CC1=CC(=C(C=C1)C)OC(C)C(=O)NC                15   \n",
              "4  17650797  CC1=CC(=C(C=C1)C)OC(C)C(=O)NC(C)C                17   \n",
              "\n",
              "   molecular weight  atom count  homo orbital      homo      lumo       gap  \\\n",
              "0         215.24782          29            57 -6.098071 -1.472136  4.625935   \n",
              "1         213.66078          26            56 -6.685837 -0.968725  5.717112   \n",
              "2         239.69806          30            63 -6.650463 -0.944235  5.706227   \n",
              "3         207.26888          32            56 -6.315762 -0.511574  5.804188   \n",
              "4         235.32204          38            64 -6.010995 -0.310210  5.700785   \n",
              "\n",
              "   fst energy  fst energy oscillator  excitations in visible  \\\n",
              "0    4.210240               0.095417                       0   \n",
              "1    4.962773               0.027205                       0   \n",
              "2    4.969988               0.030048                       0   \n",
              "3    5.003490               0.025696                       0   \n",
              "4    4.935433               0.031251                       0   \n",
              "\n",
              "   max oscillator strength  max oscillator strength energy  \\\n",
              "0                 0.429545                        5.664795   \n",
              "1                 0.070237                        5.553358   \n",
              "2                 0.073594                        5.594168   \n",
              "3                 0.051853                        5.620916   \n",
              "4                 0.070977                        5.541557   \n",
              "\n",
              "   max oscillator strength position  N count  O count  F count  P count  \\\n",
              "0                                 8        1        2        0        0   \n",
              "1                                 3        1        2        0        0   \n",
              "2                                 5        1        2        0        0   \n",
              "3                                 4        1        2        0        0   \n",
              "4                                 4        1        2        0        0   \n",
              "\n",
              "   S count  Cl count  Br count  total heteroatoms count  aromatic ring count  \\\n",
              "0        0         0         0                        3                  2.0   \n",
              "1        0         1         0                        4                  1.0   \n",
              "2        0         1         0                        4                  2.0   \n",
              "3        0         0         0                        3                  1.0   \n",
              "4        0         0         0                        3                  1.0   \n",
              "\n",
              "   aromatic total atom count  aromatic heteroatom count  corante  \n",
              "0                       10.0                        0.0        0  \n",
              "1                        6.0                        0.0        0  \n",
              "2                        6.0                        0.0        0  \n",
              "3                        6.0                        0.0        0  \n",
              "4                        6.0                        0.0        0  "
            ],
            "text/html": [
              "\n",
              "  <div id=\"df-96910cdd-437e-4dc8-b34b-05bd0acf89d8\">\n",
              "    <div class=\"colab-df-container\">\n",
              "      <div>\n",
              "<style scoped>\n",
              "    .dataframe tbody tr th:only-of-type {\n",
              "        vertical-align: middle;\n",
              "    }\n",
              "\n",
              "    .dataframe tbody tr th {\n",
              "        vertical-align: top;\n",
              "    }\n",
              "\n",
              "    .dataframe thead th {\n",
              "        text-align: right;\n",
              "    }\n",
              "</style>\n",
              "<table border=\"1\" class=\"dataframe\">\n",
              "  <thead>\n",
              "    <tr style=\"text-align: right;\">\n",
              "      <th></th>\n",
              "      <th>cid</th>\n",
              "      <th>canonical smiles</th>\n",
              "      <th>heavy atom count</th>\n",
              "      <th>molecular weight</th>\n",
              "      <th>atom count</th>\n",
              "      <th>homo orbital</th>\n",
              "      <th>homo</th>\n",
              "      <th>lumo</th>\n",
              "      <th>gap</th>\n",
              "      <th>fst energy</th>\n",
              "      <th>fst energy oscillator</th>\n",
              "      <th>excitations in visible</th>\n",
              "      <th>max oscillator strength</th>\n",
              "      <th>max oscillator strength energy</th>\n",
              "      <th>max oscillator strength position</th>\n",
              "      <th>N count</th>\n",
              "      <th>O count</th>\n",
              "      <th>F count</th>\n",
              "      <th>P count</th>\n",
              "      <th>S count</th>\n",
              "      <th>Cl count</th>\n",
              "      <th>Br count</th>\n",
              "      <th>total heteroatoms count</th>\n",
              "      <th>aromatic ring count</th>\n",
              "      <th>aromatic total atom count</th>\n",
              "      <th>aromatic heteroatom count</th>\n",
              "      <th>corante</th>\n",
              "    </tr>\n",
              "  </thead>\n",
              "  <tbody>\n",
              "    <tr>\n",
              "      <th>0</th>\n",
              "      <td>17650441</td>\n",
              "      <td>CC(C(=O)N)OC1=CC=CC2=CC=CC=C21</td>\n",
              "      <td>16</td>\n",
              "      <td>215.24782</td>\n",
              "      <td>29</td>\n",
              "      <td>57</td>\n",
              "      <td>-6.098071</td>\n",
              "      <td>-1.472136</td>\n",
              "      <td>4.625935</td>\n",
              "      <td>4.210240</td>\n",
              "      <td>0.095417</td>\n",
              "      <td>0</td>\n",
              "      <td>0.429545</td>\n",
              "      <td>5.664795</td>\n",
              "      <td>8</td>\n",
              "      <td>1</td>\n",
              "      <td>2</td>\n",
              "      <td>0</td>\n",
              "      <td>0</td>\n",
              "      <td>0</td>\n",
              "      <td>0</td>\n",
              "      <td>0</td>\n",
              "      <td>3</td>\n",
              "      <td>2.0</td>\n",
              "      <td>10.0</td>\n",
              "      <td>0.0</td>\n",
              "      <td>0</td>\n",
              "    </tr>\n",
              "    <tr>\n",
              "      <th>1</th>\n",
              "      <td>17650661</td>\n",
              "      <td>CC(C(=O)NC)OC1=CC=CC=C1Cl</td>\n",
              "      <td>14</td>\n",
              "      <td>213.66078</td>\n",
              "      <td>26</td>\n",
              "      <td>56</td>\n",
              "      <td>-6.685837</td>\n",
              "      <td>-0.968725</td>\n",
              "      <td>5.717112</td>\n",
              "      <td>4.962773</td>\n",
              "      <td>0.027205</td>\n",
              "      <td>0</td>\n",
              "      <td>0.070237</td>\n",
              "      <td>5.553358</td>\n",
              "      <td>3</td>\n",
              "      <td>1</td>\n",
              "      <td>2</td>\n",
              "      <td>0</td>\n",
              "      <td>0</td>\n",
              "      <td>0</td>\n",
              "      <td>1</td>\n",
              "      <td>0</td>\n",
              "      <td>4</td>\n",
              "      <td>1.0</td>\n",
              "      <td>6.0</td>\n",
              "      <td>0.0</td>\n",
              "      <td>0</td>\n",
              "    </tr>\n",
              "    <tr>\n",
              "      <th>2</th>\n",
              "      <td>17650712</td>\n",
              "      <td>CC(C(=O)NC1CC1)OC2=CC=CC=C2Cl</td>\n",
              "      <td>16</td>\n",
              "      <td>239.69806</td>\n",
              "      <td>30</td>\n",
              "      <td>63</td>\n",
              "      <td>-6.650463</td>\n",
              "      <td>-0.944235</td>\n",
              "      <td>5.706227</td>\n",
              "      <td>4.969988</td>\n",
              "      <td>0.030048</td>\n",
              "      <td>0</td>\n",
              "      <td>0.073594</td>\n",
              "      <td>5.594168</td>\n",
              "      <td>5</td>\n",
              "      <td>1</td>\n",
              "      <td>2</td>\n",
              "      <td>0</td>\n",
              "      <td>0</td>\n",
              "      <td>0</td>\n",
              "      <td>1</td>\n",
              "      <td>0</td>\n",
              "      <td>4</td>\n",
              "      <td>2.0</td>\n",
              "      <td>6.0</td>\n",
              "      <td>0.0</td>\n",
              "      <td>0</td>\n",
              "    </tr>\n",
              "    <tr>\n",
              "      <th>3</th>\n",
              "      <td>17650795</td>\n",
              "      <td>CC1=CC(=C(C=C1)C)OC(C)C(=O)NC</td>\n",
              "      <td>15</td>\n",
              "      <td>207.26888</td>\n",
              "      <td>32</td>\n",
              "      <td>56</td>\n",
              "      <td>-6.315762</td>\n",
              "      <td>-0.511574</td>\n",
              "      <td>5.804188</td>\n",
              "      <td>5.003490</td>\n",
              "      <td>0.025696</td>\n",
              "      <td>0</td>\n",
              "      <td>0.051853</td>\n",
              "      <td>5.620916</td>\n",
              "      <td>4</td>\n",
              "      <td>1</td>\n",
              "      <td>2</td>\n",
              "      <td>0</td>\n",
              "      <td>0</td>\n",
              "      <td>0</td>\n",
              "      <td>0</td>\n",
              "      <td>0</td>\n",
              "      <td>3</td>\n",
              "      <td>1.0</td>\n",
              "      <td>6.0</td>\n",
              "      <td>0.0</td>\n",
              "      <td>0</td>\n",
              "    </tr>\n",
              "    <tr>\n",
              "      <th>4</th>\n",
              "      <td>17650797</td>\n",
              "      <td>CC1=CC(=C(C=C1)C)OC(C)C(=O)NC(C)C</td>\n",
              "      <td>17</td>\n",
              "      <td>235.32204</td>\n",
              "      <td>38</td>\n",
              "      <td>64</td>\n",
              "      <td>-6.010995</td>\n",
              "      <td>-0.310210</td>\n",
              "      <td>5.700785</td>\n",
              "      <td>4.935433</td>\n",
              "      <td>0.031251</td>\n",
              "      <td>0</td>\n",
              "      <td>0.070977</td>\n",
              "      <td>5.541557</td>\n",
              "      <td>4</td>\n",
              "      <td>1</td>\n",
              "      <td>2</td>\n",
              "      <td>0</td>\n",
              "      <td>0</td>\n",
              "      <td>0</td>\n",
              "      <td>0</td>\n",
              "      <td>0</td>\n",
              "      <td>3</td>\n",
              "      <td>1.0</td>\n",
              "      <td>6.0</td>\n",
              "      <td>0.0</td>\n",
              "      <td>0</td>\n",
              "    </tr>\n",
              "  </tbody>\n",
              "</table>\n",
              "</div>\n",
              "      <button class=\"colab-df-convert\" onclick=\"convertToInteractive('df-96910cdd-437e-4dc8-b34b-05bd0acf89d8')\"\n",
              "              title=\"Convert this dataframe to an interactive table.\"\n",
              "              style=\"display:none;\">\n",
              "        \n",
              "  <svg xmlns=\"http://www.w3.org/2000/svg\" height=\"24px\"viewBox=\"0 0 24 24\"\n",
              "       width=\"24px\">\n",
              "    <path d=\"M0 0h24v24H0V0z\" fill=\"none\"/>\n",
              "    <path d=\"M18.56 5.44l.94 2.06.94-2.06 2.06-.94-2.06-.94-.94-2.06-.94 2.06-2.06.94zm-11 1L8.5 8.5l.94-2.06 2.06-.94-2.06-.94L8.5 2.5l-.94 2.06-2.06.94zm10 10l.94 2.06.94-2.06 2.06-.94-2.06-.94-.94-2.06-.94 2.06-2.06.94z\"/><path d=\"M17.41 7.96l-1.37-1.37c-.4-.4-.92-.59-1.43-.59-.52 0-1.04.2-1.43.59L10.3 9.45l-7.72 7.72c-.78.78-.78 2.05 0 2.83L4 21.41c.39.39.9.59 1.41.59.51 0 1.02-.2 1.41-.59l7.78-7.78 2.81-2.81c.8-.78.8-2.07 0-2.86zM5.41 20L4 18.59l7.72-7.72 1.47 1.35L5.41 20z\"/>\n",
              "  </svg>\n",
              "      </button>\n",
              "      \n",
              "  <style>\n",
              "    .colab-df-container {\n",
              "      display:flex;\n",
              "      flex-wrap:wrap;\n",
              "      gap: 12px;\n",
              "    }\n",
              "\n",
              "    .colab-df-convert {\n",
              "      background-color: #E8F0FE;\n",
              "      border: none;\n",
              "      border-radius: 50%;\n",
              "      cursor: pointer;\n",
              "      display: none;\n",
              "      fill: #1967D2;\n",
              "      height: 32px;\n",
              "      padding: 0 0 0 0;\n",
              "      width: 32px;\n",
              "    }\n",
              "\n",
              "    .colab-df-convert:hover {\n",
              "      background-color: #E2EBFA;\n",
              "      box-shadow: 0px 1px 2px rgba(60, 64, 67, 0.3), 0px 1px 3px 1px rgba(60, 64, 67, 0.15);\n",
              "      fill: #174EA6;\n",
              "    }\n",
              "\n",
              "    [theme=dark] .colab-df-convert {\n",
              "      background-color: #3B4455;\n",
              "      fill: #D2E3FC;\n",
              "    }\n",
              "\n",
              "    [theme=dark] .colab-df-convert:hover {\n",
              "      background-color: #434B5C;\n",
              "      box-shadow: 0px 1px 3px 1px rgba(0, 0, 0, 0.15);\n",
              "      filter: drop-shadow(0px 1px 2px rgba(0, 0, 0, 0.3));\n",
              "      fill: #FFFFFF;\n",
              "    }\n",
              "  </style>\n",
              "\n",
              "      <script>\n",
              "        const buttonEl =\n",
              "          document.querySelector('#df-96910cdd-437e-4dc8-b34b-05bd0acf89d8 button.colab-df-convert');\n",
              "        buttonEl.style.display =\n",
              "          google.colab.kernel.accessAllowed ? 'block' : 'none';\n",
              "\n",
              "        async function convertToInteractive(key) {\n",
              "          const element = document.querySelector('#df-96910cdd-437e-4dc8-b34b-05bd0acf89d8');\n",
              "          const dataTable =\n",
              "            await google.colab.kernel.invokeFunction('convertToInteractive',\n",
              "                                                     [key], {});\n",
              "          if (!dataTable) return;\n",
              "\n",
              "          const docLinkHtml = 'Like what you see? Visit the ' +\n",
              "            '<a target=\"_blank\" href=https://colab.research.google.com/notebooks/data_table.ipynb>data table notebook</a>'\n",
              "            + ' to learn more about interactive tables.';\n",
              "          element.innerHTML = '';\n",
              "          dataTable['output_type'] = 'display_data';\n",
              "          await google.colab.output.renderOutput(dataTable, element);\n",
              "          const docLink = document.createElement('div');\n",
              "          docLink.innerHTML = docLinkHtml;\n",
              "          element.appendChild(docLink);\n",
              "        }\n",
              "      </script>\n",
              "    </div>\n",
              "  </div>\n",
              "  "
            ]
          },
          "metadata": {},
          "execution_count": 20
        }
      ],
      "source": [
        "df_full.head()"
      ]
    },
    {
      "cell_type": "code",
      "execution_count": 21,
      "metadata": {
        "id": "lTKO5B4SYJaK",
        "colab": {
          "base_uri": "https://localhost:8080/"
        },
        "outputId": "0cc37d34-c4f0-4012-81c7-551426e81254"
      },
      "outputs": [
        {
          "output_type": "execute_result",
          "data": {
            "text/plain": [
              "cid                                   int64\n",
              "canonical smiles                     object\n",
              "heavy atom count                      int64\n",
              "molecular weight                    float64\n",
              "atom count                            int64\n",
              "homo orbital                          int64\n",
              "homo                                float64\n",
              "lumo                                float64\n",
              "gap                                 float64\n",
              "fst energy                          float64\n",
              "fst energy oscillator               float64\n",
              "excitations in visible                int64\n",
              "max oscillator strength             float64\n",
              "max oscillator strength energy      float64\n",
              "max oscillator strength position      int64\n",
              "N count                               int64\n",
              "O count                               int64\n",
              "F count                               int64\n",
              "P count                               int64\n",
              "S count                               int64\n",
              "Cl count                              int64\n",
              "Br count                              int64\n",
              "total heteroatoms count               int64\n",
              "aromatic ring count                 float64\n",
              "aromatic total atom count           float64\n",
              "aromatic heteroatom count           float64\n",
              "corante                               int64\n",
              "dtype: object"
            ]
          },
          "metadata": {},
          "execution_count": 21
        }
      ],
      "source": [
        "df_full.dtypes"
      ]
    },
    {
      "cell_type": "code",
      "execution_count": 22,
      "metadata": {
        "id": "D3ntFdUPYJaK",
        "colab": {
          "base_uri": "https://localhost:8080/"
        },
        "outputId": "65e58914-9678-4fcd-b844-72ae36906da7"
      },
      "outputs": [
        {
          "output_type": "execute_result",
          "data": {
            "text/plain": [
              "cid                                     0\n",
              "canonical smiles                        6\n",
              "heavy atom count                        0\n",
              "molecular weight                        0\n",
              "atom count                              0\n",
              "homo orbital                            0\n",
              "homo                                    0\n",
              "lumo                                    0\n",
              "gap                                     0\n",
              "fst energy                              0\n",
              "fst energy oscillator                   2\n",
              "excitations in visible                  0\n",
              "max oscillator strength                 0\n",
              "max oscillator strength energy          0\n",
              "max oscillator strength position        0\n",
              "N count                                 0\n",
              "O count                                 0\n",
              "F count                                 0\n",
              "P count                                 0\n",
              "S count                                 0\n",
              "Cl count                                0\n",
              "Br count                                0\n",
              "total heteroatoms count                 0\n",
              "aromatic ring count                 46979\n",
              "aromatic total atom count           46979\n",
              "aromatic heteroatom count           46979\n",
              "corante                                 0\n",
              "dtype: int64"
            ]
          },
          "metadata": {},
          "execution_count": 22
        }
      ],
      "source": [
        "df_full.isnull().sum()"
      ]
    },
    {
      "cell_type": "markdown",
      "metadata": {
        "id": "U6DSYf_tYJaK"
      },
      "source": [
        "## EDA (exploratory data analysis)"
      ]
    },
    {
      "cell_type": "markdown",
      "metadata": {
        "id": "LTw43PEEYJaK"
      },
      "source": [
        "### Class imbalance"
      ]
    },
    {
      "cell_type": "markdown",
      "metadata": {
        "id": "SrkjW4QMYJaK"
      },
      "source": [
        "Initially, we have aroung 75% of dyes in our dataset."
      ]
    },
    {
      "cell_type": "code",
      "execution_count": 23,
      "metadata": {
        "id": "dZ0dRILnYJaL",
        "colab": {
          "base_uri": "https://localhost:8080/",
          "height": 343
        },
        "outputId": "671ecfa8-fe22-436c-d30f-6922df6782c1"
      },
      "outputs": [
        {
          "output_type": "execute_result",
          "data": {
            "text/plain": [
              "<AxesSubplot:>"
            ]
          },
          "metadata": {},
          "execution_count": 23
        },
        {
          "output_type": "display_data",
          "data": {
            "text/plain": [
              "<Figure size 720x360 with 1 Axes>"
            ],
            "image/png": "[encoded data removed]"
          },
          "metadata": {}
        }
      ],
      "source": [
        "df_full['corante'].value_counts(normalize=True).plot.bar(rot=0)"
      ]
    },
    {
      "cell_type": "code",
      "source": [
        "df_full['corante'].value_counts()"
      ],
      "metadata": {
        "id": "zIn4dEXBGQ_R",
        "colab": {
          "base_uri": "https://localhost:8080/"
        },
        "outputId": "5bf63a99-16e8-4b0a-8487-48909b39f861"
      },
      "execution_count": 24,
      "outputs": [
        {
          "output_type": "execute_result",
          "data": {
            "text/plain": [
              "0    3369261\n",
              "1    1048465\n",
              "Name: corante, dtype: int64"
            ]
          },
          "metadata": {},
          "execution_count": 24
        }
      ]
    },
    {
      "cell_type": "markdown",
      "metadata": {
        "id": "ICV4DkAdYJaL"
      },
      "source": [
        "### Null data"
      ]
    },
    {
      "cell_type": "markdown",
      "metadata": {
        "id": "77iLNdvtYJaL"
      },
      "source": [
        "Dropping the \"null\" values in aromtics descriptors (which may be zero aromaticity but also may be en error of RDKit)"
      ]
    },
    {
      "cell_type": "code",
      "execution_count": 25,
      "metadata": {
        "id": "ihS0zEttYJaL"
      },
      "outputs": [],
      "source": [
        "df_full.dropna(subset=['aromatic ring count', 'aromatic total atom count', 'aromatic heteroatom count'], inplace=True)"
      ]
    },
    {
      "cell_type": "markdown",
      "metadata": {
        "id": "I7WNW4bnYJaL"
      },
      "source": [
        "Other data though are of main importance for our calculations, as the `First energy oscillator`, so we will drop these rows"
      ]
    },
    {
      "cell_type": "code",
      "source": [
        "df_full.dropna(subset=['fst energy oscillator'], inplace=True)"
      ],
      "metadata": {
        "id": "Pf8r4axcuFca"
      },
      "execution_count": 26,
      "outputs": []
    },
    {
      "cell_type": "markdown",
      "source": [
        "Obviouslly, we will drop also null smiles:"
      ],
      "metadata": {
        "id": "e8jQXksYuTTr"
      }
    },
    {
      "cell_type": "code",
      "source": [
        "df_full.dropna(subset=['canonical smiles'], inplace=True)"
      ],
      "metadata": {
        "id": "vwTpMxOKby1t"
      },
      "execution_count": 27,
      "outputs": []
    },
    {
      "cell_type": "markdown",
      "source": [
        "For some reason, we still have some data from `fst energy oscillator` that didn't appear before. Let's discard it too:"
      ],
      "metadata": {
        "id": "NMO79d4hpsHw"
      }
    },
    {
      "cell_type": "code",
      "execution_count": 28,
      "metadata": {
        "id": "sVSYHoPeYJaO",
        "colab": {
          "base_uri": "https://localhost:8080/"
        },
        "outputId": "7bcd9a67-b05e-4875-f1c6-bd77625dd03e"
      },
      "outputs": [
        {
          "output_type": "execute_result",
          "data": {
            "text/plain": [
              "(9702, 27)"
            ]
          },
          "metadata": {},
          "execution_count": 28
        }
      ],
      "source": [
        "df_full[df_full['fst energy oscillator']==0].shape"
      ]
    },
    {
      "cell_type": "code",
      "source": [
        "df_full = df_full[df_full['fst energy oscillator']!=0]"
      ],
      "metadata": {
        "id": "xu9Y79O_udN1"
      },
      "execution_count": null,
      "outputs": []
    },
    {
      "cell_type": "markdown",
      "metadata": {
        "id": "RzLawMFhYJaM"
      },
      "source": [
        "### Duplicated CID and SMILES"
      ]
    },
    {
      "cell_type": "code",
      "execution_count": 30,
      "metadata": {
        "id": "f3lB_LBXYJaM",
        "colab": {
          "base_uri": "https://localhost:8080/"
        },
        "outputId": "800ea815-e02f-43cf-d0bb-a2214953e840"
      },
      "outputs": [
        {
          "output_type": "execute_result",
          "data": {
            "text/plain": [
              "(1018840, 27)"
            ]
          },
          "metadata": {},
          "execution_count": 30
        }
      ],
      "source": [
        "df_full[df_full.duplicated(subset='cid')==True].shape"
      ]
    },
    {
      "cell_type": "markdown",
      "metadata": {
        "id": "mwkuUBXUYJaM"
      },
      "source": [
        "Ops! Seems like we have some duplicated CIDs. Let's see the proportion of dyes and non-dyes:|"
      ]
    },
    {
      "cell_type": "markdown",
      "source": [],
      "metadata": {
        "id": "e7QafSp9cq-I"
      }
    },
    {
      "cell_type": "code",
      "execution_count": 32,
      "metadata": {
        "id": "So55ZROrYJaN",
        "colab": {
          "base_uri": "https://localhost:8080/"
        },
        "outputId": "296813f3-f549-42c7-eda1-e9eee41a064c"
      },
      "outputs": [
        {
          "output_type": "execute_result",
          "data": {
            "text/plain": [
              "0    1018840\n",
              "1    1018839\n",
              "Name: corante, dtype: int64"
            ]
          },
          "metadata": {},
          "execution_count": 32
        }
      ],
      "source": [
        "df_full[df_full.duplicated(subset='cid', keep=False)==True]['corante'].value_counts()"
      ]
    },
    {
      "cell_type": "markdown",
      "metadata": {
        "id": "OZPJWLpuYJaN"
      },
      "source": [
        "Seems like we have some isomers here!!\n",
        "\n",
        "As we already have an imbalance regarding dye/non-dye distributions, let us keep the isomers that are classified as dyes, in order to not further increase this imbalance"
      ]
    },
    {
      "cell_type": "code",
      "execution_count": 33,
      "metadata": {
        "id": "c02yT3lHYJaN"
      },
      "outputs": [],
      "source": [
        "df_full.drop_duplicates(subset='cid', keep='last', inplace=True, ignore_index=True)"
      ]
    },
    {
      "cell_type": "markdown",
      "source": [
        "We may still have some duplicated smiles with different cids.."
      ],
      "metadata": {
        "id": "n5nX-lKJhoqI"
      }
    },
    {
      "cell_type": "code",
      "source": [
        "df_full[df_full.duplicated(subset='canonical smiles')==True].shape"
      ],
      "metadata": {
        "colab": {
          "base_uri": "https://localhost:8080/"
        },
        "id": "n5edwFBQgNGC",
        "outputId": "710aaa01-00e4-41b2-bced-0632ed3d0102"
      },
      "execution_count": 34,
      "outputs": [
        {
          "output_type": "execute_result",
          "data": {
            "text/plain": [
              "(258267, 27)"
            ]
          },
          "metadata": {},
          "execution_count": 34
        }
      ]
    },
    {
      "cell_type": "code",
      "source": [
        "df_full[df_full.duplicated(subset='canonical smiles')==True]['corante'].value_counts()"
      ],
      "metadata": {
        "colab": {
          "base_uri": "https://localhost:8080/"
        },
        "id": "TBGcjw2OivEq",
        "outputId": "d8dab26e-dea0-4cfc-be91-cb0427af1f72"
      },
      "execution_count": 35,
      "outputs": [
        {
          "output_type": "execute_result",
          "data": {
            "text/plain": [
              "0    183188\n",
              "1     75079\n",
              "Name: corante, dtype: int64"
            ]
          },
          "metadata": {},
          "execution_count": 35
        }
      ]
    },
    {
      "cell_type": "markdown",
      "source": [
        "Again, in order to reduce the imbalance of dyes/non-dyes, let's drop the first occurrences:"
      ],
      "metadata": {
        "id": "q6ubk8SKjIv8"
      }
    },
    {
      "cell_type": "code",
      "source": [
        "df_full.drop_duplicates(subset='canonical smiles', keep='last', inplace=True, ignore_index=True)"
      ],
      "metadata": {
        "id": "amzD-FVDjIYo"
      },
      "execution_count": 36,
      "outputs": []
    },
    {
      "cell_type": "markdown",
      "metadata": {
        "id": "MpebQ-tRYJaO"
      },
      "source": [
        "### Sanity check \n",
        "\n",
        "This regards some information that may not make sense, such as molecular weight = 0"
      ]
    },
    {
      "cell_type": "markdown",
      "source": [
        "Molecular weight:"
      ],
      "metadata": {
        "id": "Rp2sSpDXdMi-"
      }
    },
    {
      "cell_type": "code",
      "execution_count": 37,
      "metadata": {
        "id": "lgsMvLROYJaO",
        "colab": {
          "base_uri": "https://localhost:8080/"
        },
        "outputId": "14c605e8-3f4f-46db-bb1c-e8adf702602f"
      },
      "outputs": [
        {
          "output_type": "execute_result",
          "data": {
            "text/plain": [
              "(15, 27)"
            ]
          },
          "metadata": {},
          "execution_count": 37
        }
      ],
      "source": [
        "#(rows, cols)\n",
        "df_full[df_full['molecular weight']==0].shape"
      ]
    },
    {
      "cell_type": "code",
      "source": [
        "#dropping\n",
        "df_full = df_full[df_full['molecular weight']!=0]"
      ],
      "metadata": {
        "id": "4MWu5A1EdDZh"
      },
      "execution_count": 38,
      "outputs": []
    },
    {
      "cell_type": "markdown",
      "source": [
        "Cid:"
      ],
      "metadata": {
        "id": "KofkL_isdenk"
      }
    },
    {
      "cell_type": "code",
      "source": [
        "#(rows, cols)\n",
        "df_full[df_full['cid']==0].shape"
      ],
      "metadata": {
        "colab": {
          "base_uri": "https://localhost:8080/"
        },
        "id": "WT4iN_bYdWJe",
        "outputId": "d934613f-c906-497e-f5ae-11d5e976985c"
      },
      "execution_count": 39,
      "outputs": [
        {
          "output_type": "execute_result",
          "data": {
            "text/plain": [
              "(1, 27)"
            ]
          },
          "metadata": {},
          "execution_count": 39
        }
      ]
    },
    {
      "cell_type": "code",
      "source": [
        "#dropping\n",
        "df_full = df_full[df_full['cid']!=0]"
      ],
      "metadata": {
        "id": "qIC5abjGewoJ"
      },
      "execution_count": 40,
      "outputs": []
    },
    {
      "cell_type": "markdown",
      "source": [
        "Atom count:"
      ],
      "metadata": {
        "id": "cbex9Jv-dyKg"
      }
    },
    {
      "cell_type": "code",
      "execution_count": 41,
      "metadata": {
        "id": "d37qdPxoYJaO",
        "colab": {
          "base_uri": "https://localhost:8080/"
        },
        "outputId": "e6220444-a324-4526-d03f-87136929ca76"
      },
      "outputs": [
        {
          "output_type": "execute_result",
          "data": {
            "text/plain": [
              "(0, 27)"
            ]
          },
          "metadata": {},
          "execution_count": 41
        }
      ],
      "source": [
        "df_full[df_full['atom count']==0].shape"
      ]
    },
    {
      "cell_type": "markdown",
      "source": [
        "Gap:"
      ],
      "metadata": {
        "id": "TkNne8bvesje"
      }
    },
    {
      "cell_type": "code",
      "execution_count": 42,
      "metadata": {
        "id": "AhttB12lYJaO",
        "colab": {
          "base_uri": "https://localhost:8080/"
        },
        "outputId": "646fffda-e6ee-420b-e59d-fd10e8b53e38"
      },
      "outputs": [
        {
          "output_type": "execute_result",
          "data": {
            "text/plain": [
              "(0, 27)"
            ]
          },
          "metadata": {},
          "execution_count": 42
        }
      ],
      "source": [
        "df_full[df_full['gap']==0].shape"
      ]
    },
    {
      "cell_type": "markdown",
      "metadata": {
        "id": "rmKGiyKaYJaO"
      },
      "source": [
        "Regarding levels of energy and oscillation strengths, should we keep these data? Does it make sense?"
      ]
    },
    {
      "cell_type": "code",
      "execution_count": 43,
      "metadata": {
        "id": "pynnCDTQYJaO",
        "colab": {
          "base_uri": "https://localhost:8080/"
        },
        "outputId": "f34dfffe-c8fe-4556-947e-6635e2c665e9"
      },
      "outputs": [
        {
          "output_type": "execute_result",
          "data": {
            "text/plain": [
              "(9, 27)"
            ]
          },
          "metadata": {},
          "execution_count": 43
        }
      ],
      "source": [
        "df_full[df_full['homo']==0].shape"
      ]
    },
    {
      "cell_type": "code",
      "execution_count": 44,
      "metadata": {
        "id": "JJNKiX41YJaO",
        "colab": {
          "base_uri": "https://localhost:8080/"
        },
        "outputId": "3b9e41ad-4577-4ee9-bf01-1e5bb264806c"
      },
      "outputs": [
        {
          "output_type": "execute_result",
          "data": {
            "text/plain": [
              "(3709, 27)"
            ]
          },
          "metadata": {},
          "execution_count": 44
        }
      ],
      "source": [
        "df_full[df_full['lumo']==0].shape"
      ]
    },
    {
      "cell_type": "markdown",
      "metadata": {
        "id": "C6J1GZ5wYJaN"
      },
      "source": [
        "Our class imbalance is still the same! Weird.."
      ]
    },
    {
      "cell_type": "code",
      "source": [
        "df_full['corante'].value_counts(normalize=True).plot.bar(rot=0)"
      ],
      "metadata": {
        "colab": {
          "base_uri": "https://localhost:8080/",
          "height": 339
        },
        "id": "I60kCLIXfSI_",
        "outputId": "21451bb4-1fba-44de-899a-0c8f119f3c50"
      },
      "execution_count": 45,
      "outputs": [
        {
          "output_type": "execute_result",
          "data": {
            "text/plain": [
              "<AxesSubplot:>"
            ]
          },
          "metadata": {},
          "execution_count": 45
        },
        {
          "output_type": "display_data",
          "data": {
            "text/plain": [
              "<Figure size 720x360 with 1 Axes>"
            ],
            "image/png": "[encoded data removed]"
          },
          "metadata": {}
        }
      ]
    },
    {
      "cell_type": "code",
      "source": [
        "df_full['corante'].value_counts()"
      ],
      "metadata": {
        "colab": {
          "base_uri": "https://localhost:8080/"
        },
        "id": "sOLvlxDvfd1W",
        "outputId": "8f63541a-e859-4159-d2d1-909e583b8bc0"
      },
      "execution_count": 46,
      "outputs": [
        {
          "output_type": "execute_result",
          "data": {
            "text/plain": [
              "0    2117922\n",
              "1     975694\n",
              "Name: corante, dtype: int64"
            ]
          },
          "metadata": {},
          "execution_count": 46
        }
      ]
    },
    {
      "cell_type": "markdown",
      "metadata": {
        "id": "agCXYeXpYJaO"
      },
      "source": [
        "### Graphical distributions"
      ]
    },
    {
      "cell_type": "code",
      "execution_count": null,
      "metadata": {
        "id": "mw9Hct8hYJaP"
      },
      "outputs": [],
      "source": [
        "fig,(ax1, ax2, ax3) = plt.subplots(1,3, figsize=(15,5))\n",
        "fig.suptitle('Atomic properties', y=1.1, weight='bold')\n",
        "\n",
        "# Plot 1: heavy atom count\n",
        "ax1 = df_full['heavy atom count'].plot.hist(ax=ax1, bins=15)\n",
        "ax1.set_title('heavy atom count', weight='bold')\n",
        "\n",
        "# Plot 2: molecular weight\n",
        "ax2 = df_full['molecular weight'].plot.hist(ax=ax2, bins=15)\n",
        "ax2.set_title('molecular weight', weight='bold')\n",
        "\n",
        "# Plot 3: atom count\n",
        "ax3 = df_full['atom count'].plot.hist(ax=ax3, bins=15)\n",
        "ax3.set_title('atom count', weight='bold')"
      ]
    },
    {
      "cell_type": "code",
      "execution_count": null,
      "metadata": {
        "scrolled": false,
        "id": "see0vfpaYJaP"
      },
      "outputs": [],
      "source": [
        "fig,(ax1, ax2, ax3) = plt.subplots(1,3, figsize=(15,5))\n",
        "fig.suptitle('Energy properties', y=1.1, weight='bold')\n",
        "\n",
        "# Plot 1: homo distribution\n",
        "ax1 = df_full['homo'].plot.hist(ax=ax1, bins=20)\n",
        "ax1.set_title('homo [eV]', weight='bold')\n",
        "\n",
        "# Plot 2: lumo distribution\n",
        "ax2 = df_full['lumo'].plot.hist(ax=ax2, bins=20)\n",
        "ax2.set_title('lumo [eV]', weight='bold')\n",
        "\n",
        "# Plot 3: gap distribution\n",
        "ax3 = df_full['gap'].plot.hist(ax=ax3, bins=50)\n",
        "ax3.set_title('gap [eV]', weight='bold')"
      ]
    },
    {
      "cell_type": "code",
      "execution_count": null,
      "metadata": {
        "id": "ZYJzZ5ZjYJaP"
      },
      "outputs": [],
      "source": [
        "fig,(ax1, ax2, ax3, ax4) = plt.subplots(1,4, figsize=(15,4))\n",
        "fig.suptitle('Aromatic properties', y=1.1, weight='bold')\n",
        "\n",
        "# Plot 1: total heteroatoms count distribution\n",
        "ax1 = df_full['total heteroatoms count'].plot.hist(ax=ax1)\n",
        "ax1.set_title('total heteroatoms count', weight='bold', y=1.05)\n",
        "\n",
        "# Plot 2: aromatic ring count distribution\n",
        "ax2 = df_full['aromatic ring count'].plot.hist(ax=ax2)\n",
        "ax2.set_title('aromatic ring count', weight='bold', y=1.05)\n",
        "\n",
        "# Plot 3: aromatic total atom count distribution\n",
        "ax3 = df_full['aromatic total atom count'].plot.hist(ax=ax3)\n",
        "ax3.set_title('aromatic total atom count', weight='bold', y=1.05)\n",
        "\n",
        "# Plot 4: aromatic heteroatom count distribution\n",
        "ax4 = df_full['aromatic heteroatom count'].plot.hist(ax=ax4)\n",
        "ax4.set_title('aromatic heteroatom count', weight='bold', y=1.05)"
      ]
    },
    {
      "cell_type": "code",
      "execution_count": null,
      "metadata": {
        "id": "RWlf3_XSYJaP"
      },
      "outputs": [],
      "source": [
        "fig,(ax1, ax2, ax3) = plt.subplots(1,3, figsize=(15,5))\n",
        "fig.suptitle('Main excitation properties', y=1.1, weight='bold')\n",
        "\n",
        "# Plot 1: fst energy distribution\n",
        "ax1 = df_full['fst energy'].plot.hist(ax=ax1, bins=20)\n",
        "ax1.set_title('fst energy [eV]', weight='bold')\n",
        "\n",
        "# Plot 2: fst energy oscillator distribution\n",
        "ax2 = df_full['fst energy oscillator'].plot.hist(ax=ax2, bins=20)\n",
        "ax2.set_title('fst energy oscillator', weight='bold')\n",
        "\n",
        "# Plot 3: excitations in visible (class imbalance)\n",
        "ax3 = df_full['excitations in visible'].plot.hist(ax=ax3)\n",
        "ax3.set_title('excitations in visible', weight='bold')"
      ]
    },
    {
      "cell_type": "markdown",
      "metadata": {
        "id": "QQ2KwcvWYJaP"
      },
      "source": [
        "## Removing molecules that can't be read by RDKit "
      ]
    },
    {
      "cell_type": "code",
      "execution_count": null,
      "metadata": {
        "id": "4DmJkoSHYJaP"
      },
      "outputs": [],
      "source": [
        "def test_molecules(smiles):\n",
        "    \n",
        "    try:\n",
        "        # Criar a estrutura a partir do SMILES da molécula, adicionando os H faltantes\n",
        "        mol = Chem.MolFromSmiles(smiles)\n",
        "        mol = Chem.AddHs(mol)\n",
        "    \n",
        "        return 'Y'\n",
        "    \n",
        "    except:\n",
        "        \n",
        "        return 'N'\n",
        "    "
      ]
    },
    {
      "cell_type": "code",
      "execution_count": null,
      "metadata": {
        "id": "sIgSFlMtYJaQ"
      },
      "outputs": [],
      "source": [
        "%%timeit\n",
        "\n",
        "df_full['RDKit readable'] = df_full['canonical smiles'].apply(lambda x: test_molecules(smiles=x))"
      ]
    },
    {
      "cell_type": "markdown",
      "metadata": {
        "id": "HNOzcmhJYJaQ"
      },
      "source": [
        "Now, let's check the amount of molecules that could not be converted:"
      ]
    },
    {
      "cell_type": "code",
      "execution_count": null,
      "metadata": {
        "id": "B1icBGVnYJaQ"
      },
      "outputs": [],
      "source": [
        "df_full['RDKit readable'].value_counts(normalize=True).plot.bar(rot=0)"
      ]
    },
    {
      "cell_type": "markdown",
      "metadata": {
        "id": "m3GKebb4YJaQ"
      },
      "source": [
        "As we have some smiles that can't be converted into mol objects (less than 1%), let us drop them:"
      ]
    },
    {
      "cell_type": "code",
      "execution_count": null,
      "metadata": {
        "id": "KAVOlH9MYJaQ"
      },
      "outputs": [],
      "source": [
        "df_full = df_full[df_full['RDKit readable']=='Y']"
      ]
    },
    {
      "cell_type": "markdown",
      "metadata": {
        "id": "nG8-QCj9YJaR"
      },
      "source": [
        "## Applying the Kulik's decriptor\n",
        "\n",
        "Equação (https://pubs.acs.org/doi/full/10.1021/ja401184g):\n",
        "\n",
        "$P_d = \\sum_i \\sum_j P_i P_j \\delta(d - d_{ij})$\n"
      ]
    },
    {
      "cell_type": "markdown",
      "metadata": {
        "id": "n3SA3Qh1YJaR"
      },
      "source": [
        "Importing the elements database"
      ]
    },
    {
      "cell_type": "code",
      "execution_count": null,
      "metadata": {
        "id": "-A01PzTpYJaR"
      },
      "outputs": [],
      "source": [
        "elem_data = pd.read_csv('/content/drive/MyDrive/Colab Notebooks/Doutorado/Atomic properties DB.csv')"
      ]
    },
    {
      "cell_type": "code",
      "execution_count": null,
      "metadata": {
        "id": "_xwgyesgYJaR"
      },
      "outputs": [],
      "source": [
        "elem_data.head()"
      ]
    },
    {
      "cell_type": "code",
      "execution_count": null,
      "metadata": {
        "id": "3eMwyOVvYJaR"
      },
      "outputs": [],
      "source": [
        "elem_data.dtypes"
      ]
    },
    {
      "cell_type": "markdown",
      "metadata": {
        "id": "D-SqsEcBYJaR"
      },
      "source": [
        "Fixing null data and type of objects"
      ]
    },
    {
      "cell_type": "code",
      "execution_count": null,
      "metadata": {
        "id": "Y_wkxorbYJaR"
      },
      "outputs": [],
      "source": [
        "elem_data['Electronegativity (Pauling)'] = np.where( \n",
        "    ( elem_data['Electronegativity (Pauling)']=='—'), np.NaN, elem_data['Electronegativity (Pauling)'])\n",
        "\n",
        "elem_data['Atomic Radii (pm)'] = np.where( \n",
        "    ( elem_data['Atomic Radii (pm)']=='—'), np.NaN, elem_data['Atomic Radii (pm)'])\n",
        "\n",
        "elem_data['Van der Waals Radii (pm)'] = np.where( \n",
        "    ( elem_data['Van der Waals Radii (pm)']=='—'), np.NaN, elem_data['Van der Waals Radii (pm)'])\n",
        "\n",
        "elem_data['Valence electrons'] = np.where( \n",
        "    ( elem_data['Valence electrons']=='—'), np.NaN, elem_data['Valence electrons'])"
      ]
    },
    {
      "cell_type": "code",
      "execution_count": null,
      "metadata": {
        "id": "BoqUvW1oYJaS"
      },
      "outputs": [],
      "source": [
        "float_data = ['Electronegativity (Pauling)', 'Atomic Radii (pm)', 'Van der Waals Radii (pm)']\n",
        "\n",
        "elem_data[float_data] = elem_data[float_data].astype(float)"
      ]
    },
    {
      "cell_type": "code",
      "execution_count": null,
      "metadata": {
        "id": "W84A3VPGYJaS"
      },
      "outputs": [],
      "source": [
        "elem_data.dtypes"
      ]
    },
    {
      "cell_type": "code",
      "execution_count": null,
      "metadata": {
        "scrolled": true,
        "id": "TS1K4E19YJaS"
      },
      "outputs": [],
      "source": [
        "#Converting the df into a dictionary to be used in the Kulik's descriptor\n",
        "\n",
        "'''\n",
        "    Converting DataFrame to Dicionary using a COLUMN as KEY, in the format:\n",
        "    \n",
        "    prop: {<ELEMENT_1>: (prop1, prop2, prop3,...),\n",
        "            <ELEMENT_2>: (prop1, prop2, prop3,...),...\n",
        "            }\n",
        "    \n",
        "    Lengh of list of properties: 10\n",
        "    \n",
        "    Index of each property:\n",
        "    \n",
        "        0: index\n",
        "        1: Z\n",
        "        2: Name\n",
        "        3: Average atomic mass\n",
        "        4: Electronegativity (Pauling)\n",
        "        5: First Ionization Energy (eV)\n",
        "        6: Atomic Radii (pm)\n",
        "        7: Van der Waals Radii (pm)\n",
        "        8: Covalent Radii (pm)\n",
        "        9: Valence electrons \n",
        "'''\n",
        "\n",
        "properties_dict = elem_data.set_index('Symbol').T.to_dict('list')"
      ]
    },
    {
      "cell_type": "markdown",
      "metadata": {
        "id": "moK8CTt_YJaS"
      },
      "source": [
        "#### Applying the Kulik's descriptor"
      ]
    },
    {
      "cell_type": "code",
      "execution_count": null,
      "metadata": {
        "id": "5-u691y0YJaS"
      },
      "outputs": [],
      "source": [
        "def create_property_descriptors(smiles, depth, prop, prop_index=0):\n",
        "    '''\n",
        "    Função:\n",
        "        create_property_descriptors(smiles, depth, prop, prop_index=0)\n",
        "    \n",
        "    Descrição:\n",
        "        Permite criar descritores baseados em propriedades atômicas e conectividade básica entre os átomos\n",
        "\n",
        "    Argumentos:\n",
        "        smiles:     string SMILES da molécula que se deseja gerar os descritores. Exemplo: 'C(C)CO'.\n",
        "        depth:      profundidade, parâmetro que permite definir o nivel máximo de conectividade que será \n",
        "                    usado na geração dos descritores. Exemplo, se depth=3, três descritores serão gerados,\n",
        "                    com conectividade iguais a um, dois e três.\n",
        "        prop:       dicionário formado por pares 'átomo': propriedade ou 'átomo':[propriedades] ou \n",
        "                    'átomo':(propriedades).\n",
        "        prop_index: índice da propriedade de interesse nos valores de 'prop'. Se estes valores não forem\n",
        "                    listas ou tuplas, este parâmetro é ignorado. Se forem, este parâmetro deve ser\n",
        "                    configurado com um número maior ou igual a zero e menor do que o número de itens nas\n",
        "                    listas ou tuplas. O valor default deste parâmetro é zero, ou seja, a função pegará a\n",
        "                    primeira propriedade da lista.\n",
        "    '''\n",
        "    # Criar a estrutura a partir do SMILES da molécula, adicionando os H faltantes\n",
        "    mol = Chem.MolFromSmiles(smiles)\n",
        "    mol = Chem.AddHs(mol)\n",
        "    \n",
        "    # Preparar listas de resultados (separação por depth=0, 1, 2, 3...)\n",
        "    result_list = [0] * (depth+1) # Se depth = 2, precisamos de 3 itens (para d=[0,1,2])\n",
        "      \n",
        "    # Obter a matriz de distâncias entre cada um dos átomos e a lista de átomos\n",
        "    atom_list = [ atom.GetSymbol() for atom in mol.GetAtoms() ]\n",
        "    n_atoms = len(atom_list)\n",
        "    dist_matrix = np.tril(Chem.rdmolops.GetDistanceMatrix(mol, force=True))\n",
        "        \n",
        "    # Iterar toda a matriz, extraindo os dados de interesse e separando por valor de depth\n",
        "    for i in range(0, n_atoms):\n",
        "        for j in range(0, n_atoms):\n",
        "            d = int(dist_matrix[i][j])\n",
        "            \n",
        "            if d <= depth and d == 0 and i == j:\n",
        "                a_i = atom_list[i]\n",
        "                p_i = 0\n",
        "                \n",
        "                if prop[a_i] is list or tuple:  \n",
        "                    p_i = prop[a_i][prop_index]   # caso haja + de 1 propriedade p/ calcular\n",
        "                    \n",
        "                else:\n",
        "                    p_i = prop[a_i]            # caso haja somente 1 propriedade p/ calcular\n",
        "                    \n",
        "                result_list[d] += round(p_i * p_i, 3)\n",
        "            \n",
        "            if d <= depth and d > 0:\n",
        "                a_i = atom_list[i]\n",
        "                a_j = atom_list[j]\n",
        "                p_i, p_j = 0, 0\n",
        "                \n",
        "                if prop[a_i] is list or tuple:  \n",
        "                    p_i = prop[a_i][prop_index]   # caso haja + de 1 propriedade p/ calcular\n",
        "                else:\n",
        "                    p_i = prop[a_i]            # caso haja somente 1 propriedade p/ calcular\n",
        "                if prop[a_j] is list or tuple:\n",
        "                    p_j = prop[a_j][prop_index]\n",
        "                else:\n",
        "                    p_j = prop[a_j]\n",
        "                result_list[d] += round(p_i * p_j, 3)    # posição [d] na lista de resultados é incrementada\n",
        "    \n",
        "    # Finalizando\n",
        "    return result_list"
      ]
    },
    {
      "cell_type": "markdown",
      "metadata": {
        "id": "5NHebDGMYJaT"
      },
      "source": [
        "**Property 3: Electronegativity (Pauling)**"
      ]
    },
    {
      "cell_type": "code",
      "source": [
        "df_full.assign(Kulik_electronegativity=lambda x: create_property_descriptors(smiles=x, depth=3, prop=properties_dict, prop_index=3))"
      ],
      "metadata": {
        "id": "hPtU5MY0G9_C"
      },
      "execution_count": null,
      "outputs": []
    },
    {
      "cell_type": "markdown",
      "source": [
        "**NÃO RODAR DAQUI EM DIANTE!**"
      ],
      "metadata": {
        "id": "PT7iyPUvSfSd"
      }
    },
    {
      "cell_type": "code",
      "source": [
        "df_full.assign(Kulik_electronegativity=lambda x: create_property_descriptors(smiles=x, depth=3, prop=properties_dict, prop_index=3))\n",
        "df_full.assign(Kulik_1st_ionization_energyy=lambda x: create_property_descriptors(smiles=x, depth=3, prop=properties_dict, prop_index=4))\n",
        "df_full.assign(Kulik_atomic_radii=lambda x: create_property_descriptors(smiles=x, depth=3, prop=properties_dict, prop_index=5))\n",
        "df_full.assign(Kulik_van_der_waals_radii=lambda x: create_property_descriptors(smiles=x, depth=3, prop=properties_dict, prop_index=6))\n",
        "df_full.assign(Kulik_covalent_radii=lambda x: create_property_descriptors(smiles=x, depth=3, prop=properties_dict, prop_index=7))\n",
        "df_full.assign(Kulik_valence_e=lambda x: create_property_descriptors(smiles=x, depth=3, prop=properties_dict, prop_index=8))\n"
      ],
      "metadata": {
        "id": "-wrXhc_6Xmay"
      },
      "execution_count": null,
      "outputs": []
    },
    {
      "cell_type": "markdown",
      "source": [
        "Saving data:"
      ],
      "metadata": {
        "id": "tJNpPhPBYBC6"
      }
    },
    {
      "cell_type": "code",
      "execution_count": null,
      "metadata": {
        "id": "BZGEvGQAYJaV"
      },
      "outputs": [],
      "source": [
        "df_full.to_csv(\"data_outputs_w_kulik.csv\")"
      ]
    }
  ],
  "metadata": {
    "kernelspec": {
      "display_name": "Python 3",
      "language": "python",
      "name": "python3"
    },
    "language_info": {
      "codemirror_mode": {
        "name": "ipython",
        "version": 3
      },
      "file_extension": ".py",
      "mimetype": "text/x-python",
      "name": "python",
      "nbconvert_exporter": "python",
      "pygments_lexer": "ipython3",
      "version": "3.8.5"
    },
    "colab": {
      "provenance": [],
      "include_colab_link": true
    }
  },
  "nbformat": 4,
  "nbformat_minor": 0
}